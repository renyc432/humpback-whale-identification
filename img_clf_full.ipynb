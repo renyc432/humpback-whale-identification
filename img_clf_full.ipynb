{
 "cells": [
  {
   "cell_type": "markdown",
   "metadata": {},
   "source": [
    "## Image Classification: efficientNet, mobileNet"
   ]
  },
  {
   "cell_type": "code",
   "execution_count": 1,
   "metadata": {},
   "outputs": [],
   "source": [
    "import pandas as pd\n",
    "import tensorflow # as tf\n",
    "from tensorflow.keras.preprocessing import image\n",
    "from tensorflow.keras.layers import Dense, Activation, BatchNormalization, Flatten, Conv2D, AveragePooling2D, MaxPooling2D, GlobalAveragePooling2D, Dropout, Input\n",
    "from tensorflow.keras.models import Sequential\n",
    "from tensorflow.keras.applications.imagenet_utils import preprocess_input\n",
    "import datetime\n",
    "import warnings\n",
    "warnings.simplefilter(\"ignore\", category=DeprecationWarning)"
   ]
  },
  {
   "cell_type": "code",
   "execution_count": 2,
   "metadata": {},
   "outputs": [],
   "source": [
    "begin_time = datetime.datetime.now()\n",
    "working_dir = \"/home/renyc/31009/final_project/humpback-whale-identification/data/\"\n",
    "img_path = \"/home/renyc/31009/final_project/humpback-whale-identification/data/true_train_5005\"\n",
    "batch_size = 100\n",
    "class_mode = 'categorical'"
   ]
  },
  {
   "cell_type": "code",
   "execution_count": 3,
   "metadata": {},
   "outputs": [],
   "source": [
    "width = 100\n",
    "height = 100\n",
    "target_size = (width,height)"
   ]
  },
  {
   "cell_type": "code",
   "execution_count": 4,
   "metadata": {},
   "outputs": [
    {
     "data": {
      "text/plain": [
       "(           Image         Id\n",
       " 0  0000e88ab.jpg  w_f48451c\n",
       " 1  0001f9222.jpg  w_c3d896a\n",
       " 2  00029d126.jpg  w_20df2c5\n",
       " 3  00050a15a.jpg  new_whale\n",
       " 4  0005c1ef8.jpg  new_whale,\n",
       " 25361)"
      ]
     },
     "execution_count": 4,
     "metadata": {},
     "output_type": "execute_result"
    }
   ],
   "source": [
    "train_df = pd.read_csv(working_dir+\"train.csv\")\n",
    "train_df.head(), len(train_df)"
   ]
  },
  {
   "cell_type": "code",
   "execution_count": 5,
   "metadata": {},
   "outputs": [
    {
     "name": "stdout",
     "output_type": "stream",
     "text": [
      "Found 22016 images belonging to 5005 classes.\n",
      "Found 3345 images belonging to 5005 classes.\n"
     ]
    }
   ],
   "source": [
    "train_datagen = tensorflow.keras.preprocessing.image.ImageDataGenerator(shear_range = 0.5,\n",
    "                                                                        horizontal_flip = True,\n",
    "                                                                        preprocessing_function=preprocess_input,\n",
    "                                                                        validation_split=0.2)\n",
    "#                                                                        rescale = 1./255)\n",
    "\n",
    "training_set = train_datagen.flow_from_directory(directory=img_path,\n",
    "                                                target_size=target_size,\n",
    "                                                batch_size=batch_size,\n",
    "                                                class_mode=class_mode,\n",
    "                                                subset='training')\n",
    "\n",
    "validation_set = train_datagen.flow_from_directory(directory=img_path,\n",
    "                                                target_size=target_size,\n",
    "                                                batch_size=batch_size,\n",
    "                                                class_mode=class_mode,\n",
    "                                                subset='validation')"
   ]
  },
  {
   "cell_type": "code",
   "execution_count": 6,
   "metadata": {},
   "outputs": [],
   "source": [
    "num_class = training_set.num_classes"
   ]
  },
  {
   "cell_type": "code",
   "execution_count": 7,
   "metadata": {},
   "outputs": [
    {
     "name": "stdout",
     "output_type": "stream",
     "text": [
      "\n",
      "~~~~~~~~~~~~~~~~~~~~~~~~~\n",
      "time for preparing images and import 0:00:12.656575\n"
     ]
    }
   ],
   "source": [
    "print()\n",
    "print(\"~~~~~~~~~~~~~~~~~~~~~~~~~\")\n",
    "midpt = datetime.datetime.now()\n",
    "print(\"time for preparing images and import\", midpt-begin_time)"
   ]
  },
  {
   "cell_type": "code",
   "execution_count": 8,
   "metadata": {},
   "outputs": [],
   "source": [
    "##\"\"\"# Model\"\"\"\n",
    "def build_model_CNN():\n",
    "    model = Sequential()\n",
    "    model.add(Conv2D(32, (7, 7), strides = (1, 1), name = 'conv0', input_shape = (width, height, 3)))\n",
    "    model.add(BatchNormalization(axis = 3, name = 'bn0'))\n",
    "    model.add(Activation('relu'))\n",
    "    model.add(MaxPooling2D((2, 2), name='max_pool'))\n",
    "    model.add(Conv2D(64, (3, 3), strides = (1,1), name=\"conv1\"))\n",
    "    model.add(Activation('relu'))\n",
    "    model.add(AveragePooling2D((3, 3), name='avg_pool'))\n",
    "    model.add(Flatten())\n",
    "    model.add(Dense(500, activation=\"relu\", name='rl'))\n",
    "    model.add(Dropout(0.8))\n",
    "    model.add(Dense(num_class, activation='softmax', name='sm'))\n",
    "    return model"
   ]
  },
  {
   "cell_type": "code",
   "execution_count": 9,
   "metadata": {},
   "outputs": [],
   "source": [
    "def build_model_pretrained(pretrained):\n",
    "    assert (pretrained==\"MobileNetV2\" or pretrained==\"EfficientNetB0\"), 'pretrained not supported'\n",
    "    if pretrained == \"MobileNetV2\":\n",
    "        base_model = tensorflow.keras.applications.mobilenet_v2.MobileNetV2(\n",
    "            include_top=False, weights='imagenet', input_shape=(width, height, 3))\n",
    "    if pretrained == \"EfficientNetB0\":\n",
    "        base_model = tensorflow.keras.applications.efficientnet.EfficientNetB0(\n",
    "          include_top=False, weights='imagenet', input_shape=(width, height, 3))\n",
    "    inputs = Input(shape=(width, height, 3))\n",
    "    x = base_model(inputs)\n",
    "    \n",
    "    for layer in base_model.layers:\n",
    "        layer.trainable=False\n",
    "\n",
    "    x = GlobalAveragePooling2D()(x)\n",
    "    x = BatchNormalization()(x)\n",
    "    x = Dense(1024,activation=\"relu\")(x)\n",
    "    x = BatchNormalization()(x)\n",
    "    x = Dense(1024,activation=\"relu\")(x)\n",
    "    x = Dropout(0.5)(x)\n",
    "    outputs = Dense(num_class, activation='softmax')(x)\n",
    "    model = tensorflow.keras.models.Model(inputs=inputs, outputs=outputs)\n",
    "    return model"
   ]
  },
  {
   "cell_type": "markdown",
   "metadata": {},
   "source": [
    "Choose your model here"
   ]
  },
  {
   "cell_type": "code",
   "execution_count": 20,
   "metadata": {},
   "outputs": [],
   "source": [
    "model = build_model_pretrained(\"EfficientNetB0\")"
   ]
  },
  {
   "cell_type": "code",
   "execution_count": 21,
   "metadata": {},
   "outputs": [
    {
     "name": "stdout",
     "output_type": "stream",
     "text": [
      "Model: \"model_1\"\n",
      "_________________________________________________________________\n",
      "Layer (type)                 Output Shape              Param #   \n",
      "=================================================================\n",
      "input_4 (InputLayer)         [(None, 100, 100, 3)]     0         \n",
      "_________________________________________________________________\n",
      "efficientnetb0 (Functional)  (None, 4, 4, 1280)        4049571   \n",
      "_________________________________________________________________\n",
      "global_average_pooling2d_1 ( (None, 1280)              0         \n",
      "_________________________________________________________________\n",
      "batch_normalization_2 (Batch (None, 1280)              5120      \n",
      "_________________________________________________________________\n",
      "dense_3 (Dense)              (None, 1024)              1311744   \n",
      "_________________________________________________________________\n",
      "batch_normalization_3 (Batch (None, 1024)              4096      \n",
      "_________________________________________________________________\n",
      "dense_4 (Dense)              (None, 1024)              1049600   \n",
      "_________________________________________________________________\n",
      "dropout_1 (Dropout)          (None, 1024)              0         \n",
      "_________________________________________________________________\n",
      "dense_5 (Dense)              (None, 5005)              5130125   \n",
      "=================================================================\n",
      "Total params: 11,550,256\n",
      "Trainable params: 7,496,077\n",
      "Non-trainable params: 4,054,179\n",
      "_________________________________________________________________\n"
     ]
    }
   ],
   "source": [
    "adam = tensorflow.keras.optimizers.Adam(learning_rate=0.001)\n",
    "model.compile(loss='categorical_crossentropy', optimizer=adam, metrics=['accuracy'])\n",
    "model.summary()"
   ]
  },
  {
   "cell_type": "code",
   "execution_count": 22,
   "metadata": {},
   "outputs": [],
   "source": [
    "## \"\"\"# Training the Model without Grid Search\"\"\"\n",
    "filepath = \"/home/renyc/31009/final_project/humpback-whale-identification/code/models-roy/\"+'mobilenet-{epoch:02d}-accuracy-{accuracy:.2f}.hdf5'\n",
    "checkpoint = tensorflow.keras.callbacks.ModelCheckpoint(filepath, verbose=1, save_best_only=True)"
   ]
  },
  {
   "cell_type": "code",
   "execution_count": 23,
   "metadata": {},
   "outputs": [
    {
     "name": "stdout",
     "output_type": "stream",
     "text": [
      "Epoch 1/100\n",
      "221/221 [==============================] - 940s 4s/step - loss: 6.3103 - accuracy: 0.3461 - val_loss: 4.1796 - val_accuracy: 0.5809\n",
      "Epoch 2/100\n",
      "221/221 [==============================] - 271s 1s/step - loss: 5.5962 - accuracy: 0.3518 - val_loss: 3.2548 - val_accuracy: 0.5830\n",
      "Epoch 3/100\n",
      "221/221 [==============================] - 276s 1s/step - loss: 5.2459 - accuracy: 0.3543 - val_loss: 3.0397 - val_accuracy: 0.5877\n",
      "Epoch 4/100\n",
      "221/221 [==============================] - 277s 1s/step - loss: 4.8253 - accuracy: 0.3569 - val_loss: 2.8748 - val_accuracy: 0.5898\n",
      "Epoch 5/100\n",
      "221/221 [==============================] - 275s 1s/step - loss: 4.4251 - accuracy: 0.3647 - val_loss: 2.7333 - val_accuracy: 0.5955\n",
      "Epoch 6/100\n",
      "221/221 [==============================] - 274s 1s/step - loss: 4.0101 - accuracy: 0.3760 - val_loss: 2.6919 - val_accuracy: 0.5910\n",
      "Epoch 7/100\n",
      "221/221 [==============================] - 276s 1s/step - loss: 3.6005 - accuracy: 0.3883 - val_loss: 2.7004 - val_accuracy: 0.5952\n",
      "Epoch 8/100\n",
      "221/221 [==============================] - 275s 1s/step - loss: 3.2043 - accuracy: 0.4108 - val_loss: 2.6864 - val_accuracy: 0.5880\n",
      "Epoch 9/100\n",
      "221/221 [==============================] - 276s 1s/step - loss: 2.8333 - accuracy: 0.4371 - val_loss: 2.7486 - val_accuracy: 0.5961\n",
      "Epoch 10/100\n",
      "221/221 [==============================] - 275s 1s/step - loss: 2.4880 - accuracy: 0.4721 - val_loss: 2.8442 - val_accuracy: 0.5916\n",
      "Epoch 11/100\n",
      "221/221 [==============================] - 275s 1s/step - loss: 2.1762 - accuracy: 0.5123 - val_loss: 2.8941 - val_accuracy: 0.5964\n",
      "Epoch 12/100\n",
      "221/221 [==============================] - 276s 1s/step - loss: 1.8867 - accuracy: 0.5535 - val_loss: 3.0015 - val_accuracy: 0.5958\n",
      "Epoch 13/100\n",
      "221/221 [==============================] - 276s 1s/step - loss: 1.6710 - accuracy: 0.5933 - val_loss: 3.0788 - val_accuracy: 0.5919\n",
      "Epoch 14/100\n",
      "221/221 [==============================] - 274s 1s/step - loss: 1.4828 - accuracy: 0.6248 - val_loss: 3.2345 - val_accuracy: 0.5901\n",
      "Epoch 15/100\n",
      "221/221 [==============================] - 276s 1s/step - loss: 1.3222 - accuracy: 0.6610 - val_loss: 3.2617 - val_accuracy: 0.5880\n",
      "Epoch 16/100\n",
      "221/221 [==============================] - 274s 1s/step - loss: 1.1887 - accuracy: 0.6907 - val_loss: 3.4066 - val_accuracy: 0.5985\n",
      "Epoch 17/100\n",
      "221/221 [==============================] - 275s 1s/step - loss: 1.1177 - accuracy: 0.7065 - val_loss: 3.4695 - val_accuracy: 0.5940\n",
      "Epoch 18/100\n",
      "221/221 [==============================] - 275s 1s/step - loss: 1.0410 - accuracy: 0.7216 - val_loss: 3.5148 - val_accuracy: 0.5955\n",
      "Epoch 19/100\n",
      "221/221 [==============================] - 274s 1s/step - loss: 0.9502 - accuracy: 0.7418 - val_loss: 3.4745 - val_accuracy: 0.5862\n",
      "Epoch 20/100\n",
      "221/221 [==============================] - 274s 1s/step - loss: 0.8960 - accuracy: 0.7545 - val_loss: 3.6613 - val_accuracy: 0.5886\n",
      "Epoch 21/100\n",
      "221/221 [==============================] - 274s 1s/step - loss: 0.8478 - accuracy: 0.7671 - val_loss: 3.7262 - val_accuracy: 0.5982\n",
      "Epoch 22/100\n",
      "221/221 [==============================] - 276s 1s/step - loss: 0.8038 - accuracy: 0.7801 - val_loss: 3.7414 - val_accuracy: 0.5979\n",
      "Epoch 23/100\n",
      "221/221 [==============================] - 275s 1s/step - loss: 0.7576 - accuracy: 0.7901 - val_loss: 3.9581 - val_accuracy: 0.5997\n",
      "Epoch 24/100\n",
      "221/221 [==============================] - 276s 1s/step - loss: 0.7312 - accuracy: 0.7958 - val_loss: 3.9299 - val_accuracy: 0.6072\n",
      "Epoch 25/100\n",
      "221/221 [==============================] - 275s 1s/step - loss: 0.6966 - accuracy: 0.8052 - val_loss: 3.9679 - val_accuracy: 0.5964\n",
      "Epoch 26/100\n",
      "221/221 [==============================] - 277s 1s/step - loss: 0.6698 - accuracy: 0.8157 - val_loss: 4.0215 - val_accuracy: 0.5880\n",
      "Epoch 27/100\n",
      "221/221 [==============================] - 275s 1s/step - loss: 0.6417 - accuracy: 0.8205 - val_loss: 4.0849 - val_accuracy: 0.5973\n",
      "Epoch 28/100\n",
      "221/221 [==============================] - 275s 1s/step - loss: 0.6123 - accuracy: 0.8272 - val_loss: 4.0420 - val_accuracy: 0.5979\n",
      "Epoch 29/100\n",
      "221/221 [==============================] - 272s 1s/step - loss: 0.5697 - accuracy: 0.8393 - val_loss: 4.1710 - val_accuracy: 0.5970\n",
      "Epoch 30/100\n",
      "221/221 [==============================] - 271s 1s/step - loss: 0.5824 - accuracy: 0.8365 - val_loss: 4.2897 - val_accuracy: 0.5979\n",
      "Epoch 31/100\n",
      "221/221 [==============================] - 276s 1s/step - loss: 0.5711 - accuracy: 0.8418 - val_loss: 4.2484 - val_accuracy: 0.5949\n",
      "Epoch 32/100\n",
      "221/221 [==============================] - 277s 1s/step - loss: 0.5417 - accuracy: 0.8481 - val_loss: 4.1588 - val_accuracy: 0.5830\n",
      "Epoch 33/100\n",
      "221/221 [==============================] - 277s 1s/step - loss: 0.5057 - accuracy: 0.8547 - val_loss: 4.4207 - val_accuracy: 0.6021\n",
      "Epoch 34/100\n",
      "221/221 [==============================] - 276s 1s/step - loss: 0.5299 - accuracy: 0.8520 - val_loss: 4.2936 - val_accuracy: 0.5964\n",
      "Epoch 35/100\n",
      "221/221 [==============================] - 278s 1s/step - loss: 0.4968 - accuracy: 0.8605 - val_loss: 4.4198 - val_accuracy: 0.5988\n",
      "Epoch 36/100\n",
      "221/221 [==============================] - 277s 1s/step - loss: 0.4911 - accuracy: 0.8612 - val_loss: 4.3868 - val_accuracy: 0.5982\n",
      "Epoch 37/100\n",
      "221/221 [==============================] - 277s 1s/step - loss: 0.4761 - accuracy: 0.8667 - val_loss: 4.4647 - val_accuracy: 0.5964\n",
      "Epoch 38/100\n",
      "221/221 [==============================] - 276s 1s/step - loss: 0.4585 - accuracy: 0.8702 - val_loss: 4.4334 - val_accuracy: 0.5988\n",
      "Epoch 39/100\n",
      "221/221 [==============================] - 277s 1s/step - loss: 0.4447 - accuracy: 0.8730 - val_loss: 4.5252 - val_accuracy: 0.5937\n",
      "Epoch 40/100\n",
      "221/221 [==============================] - 274s 1s/step - loss: 0.4566 - accuracy: 0.8725 - val_loss: 4.5920 - val_accuracy: 0.5970\n",
      "Epoch 41/100\n",
      "221/221 [==============================] - 277s 1s/step - loss: 0.4380 - accuracy: 0.8762 - val_loss: 4.4704 - val_accuracy: 0.5970\n",
      "Epoch 42/100\n",
      "221/221 [==============================] - 276s 1s/step - loss: 0.4254 - accuracy: 0.8778 - val_loss: 4.8015 - val_accuracy: 0.6030\n",
      "Epoch 43/100\n",
      "221/221 [==============================] - 277s 1s/step - loss: 0.4201 - accuracy: 0.8832 - val_loss: 4.6730 - val_accuracy: 0.6000\n",
      "Epoch 44/100\n",
      "221/221 [==============================] - 276s 1s/step - loss: 0.3967 - accuracy: 0.8872 - val_loss: 4.6494 - val_accuracy: 0.5967\n",
      "Epoch 45/100\n",
      "221/221 [==============================] - 277s 1s/step - loss: 0.3953 - accuracy: 0.8878 - val_loss: 4.8093 - val_accuracy: 0.6006\n",
      "Epoch 46/100\n",
      "221/221 [==============================] - 277s 1s/step - loss: 0.3985 - accuracy: 0.8889 - val_loss: 4.7671 - val_accuracy: 0.5928\n",
      "Epoch 47/100\n",
      "221/221 [==============================] - 276s 1s/step - loss: 0.3856 - accuracy: 0.8878 - val_loss: 4.7447 - val_accuracy: 0.5997\n",
      "Epoch 48/100\n",
      "221/221 [==============================] - 278s 1s/step - loss: 0.3707 - accuracy: 0.8934 - val_loss: 4.7331 - val_accuracy: 0.5952\n",
      "Epoch 49/100\n",
      "221/221 [==============================] - 279s 1s/step - loss: 0.3518 - accuracy: 0.8981 - val_loss: 4.7976 - val_accuracy: 0.5976\n",
      "Epoch 50/100\n",
      "221/221 [==============================] - 282s 1s/step - loss: 0.3515 - accuracy: 0.9003 - val_loss: 4.8342 - val_accuracy: 0.5937\n",
      "Epoch 51/100\n",
      "221/221 [==============================] - 279s 1s/step - loss: 0.3306 - accuracy: 0.9052 - val_loss: 4.9200 - val_accuracy: 0.5982\n",
      "Epoch 52/100\n",
      "221/221 [==============================] - 281s 1s/step - loss: 0.3680 - accuracy: 0.8967 - val_loss: 4.9258 - val_accuracy: 0.6039\n",
      "Epoch 53/100\n",
      "221/221 [==============================] - 286s 1s/step - loss: 0.3389 - accuracy: 0.9029 - val_loss: 4.9398 - val_accuracy: 0.5997\n",
      "Epoch 54/100\n",
      "221/221 [==============================] - 292s 1s/step - loss: 0.3394 - accuracy: 0.9038 - val_loss: 4.9421 - val_accuracy: 0.6000\n",
      "Epoch 55/100\n",
      "221/221 [==============================] - 283s 1s/step - loss: 0.3536 - accuracy: 0.8984 - val_loss: 5.0007 - val_accuracy: 0.5997\n",
      "Epoch 56/100\n",
      "221/221 [==============================] - 291s 1s/step - loss: 0.3245 - accuracy: 0.9076 - val_loss: 5.0424 - val_accuracy: 0.6033\n",
      "Epoch 57/100\n",
      "221/221 [==============================] - 284s 1s/step - loss: 0.3442 - accuracy: 0.9024 - val_loss: 5.0121 - val_accuracy: 0.5967\n",
      "Epoch 58/100\n",
      "221/221 [==============================] - 280s 1s/step - loss: 0.2934 - accuracy: 0.9167 - val_loss: 4.9696 - val_accuracy: 0.5946\n",
      "Epoch 59/100\n",
      "221/221 [==============================] - 286s 1s/step - loss: 0.3060 - accuracy: 0.9106 - val_loss: 5.2593 - val_accuracy: 0.6039\n",
      "Epoch 60/100\n",
      "221/221 [==============================] - 277s 1s/step - loss: 0.3182 - accuracy: 0.9105 - val_loss: 5.0938 - val_accuracy: 0.6033\n",
      "Epoch 61/100\n",
      "221/221 [==============================] - 276s 1s/step - loss: 0.2899 - accuracy: 0.9162 - val_loss: 5.1280 - val_accuracy: 0.6012\n",
      "Epoch 62/100\n",
      "221/221 [==============================] - 279s 1s/step - loss: 0.3011 - accuracy: 0.9137 - val_loss: 5.1498 - val_accuracy: 0.6006\n",
      "Epoch 63/100\n",
      "221/221 [==============================] - 280s 1s/step - loss: 0.2804 - accuracy: 0.9197 - val_loss: 5.0985 - val_accuracy: 0.5913\n",
      "Epoch 64/100\n",
      "221/221 [==============================] - 278s 1s/step - loss: 0.2844 - accuracy: 0.9182 - val_loss: 5.2937 - val_accuracy: 0.5970\n",
      "Epoch 65/100\n",
      "221/221 [==============================] - 277s 1s/step - loss: 0.2749 - accuracy: 0.9208 - val_loss: 5.1203 - val_accuracy: 0.5886\n",
      "Epoch 66/100\n",
      "221/221 [==============================] - 281s 1s/step - loss: 0.2805 - accuracy: 0.9213 - val_loss: 5.4127 - val_accuracy: 0.6021\n",
      "Epoch 67/100\n",
      "221/221 [==============================] - 288s 1s/step - loss: 0.2639 - accuracy: 0.9223 - val_loss: 5.1420 - val_accuracy: 0.5991\n",
      "Epoch 68/100\n",
      "221/221 [==============================] - 279s 1s/step - loss: 0.2713 - accuracy: 0.9235 - val_loss: 5.2210 - val_accuracy: 0.6024\n",
      "Epoch 69/100\n",
      "221/221 [==============================] - 277s 1s/step - loss: 0.2646 - accuracy: 0.9254 - val_loss: 5.1746 - val_accuracy: 0.5943\n",
      "Epoch 70/100\n",
      "221/221 [==============================] - 275s 1s/step - loss: 0.2569 - accuracy: 0.9262 - val_loss: 5.2130 - val_accuracy: 0.6009\n",
      "Epoch 71/100\n",
      "221/221 [==============================] - 276s 1s/step - loss: 0.2736 - accuracy: 0.9228 - val_loss: 5.1250 - val_accuracy: 0.5928\n",
      "Epoch 72/100\n",
      "221/221 [==============================] - 275s 1s/step - loss: 0.2662 - accuracy: 0.9232 - val_loss: 5.2010 - val_accuracy: 0.5976\n",
      "Epoch 73/100\n",
      "221/221 [==============================] - 279s 1s/step - loss: 0.2520 - accuracy: 0.9269 - val_loss: 5.2707 - val_accuracy: 0.6000\n",
      "Epoch 74/100\n",
      "221/221 [==============================] - 275s 1s/step - loss: 0.2408 - accuracy: 0.9306 - val_loss: 5.7711 - val_accuracy: 0.6036\n",
      "Epoch 75/100\n",
      "221/221 [==============================] - 278s 1s/step - loss: 0.2412 - accuracy: 0.9306 - val_loss: 5.2689 - val_accuracy: 0.6027\n",
      "Epoch 76/100\n",
      "221/221 [==============================] - 276s 1s/step - loss: 0.2440 - accuracy: 0.9293 - val_loss: 5.3976 - val_accuracy: 0.5973\n",
      "Epoch 77/100\n",
      "221/221 [==============================] - 276s 1s/step - loss: 0.2341 - accuracy: 0.9319 - val_loss: 5.3261 - val_accuracy: 0.5997\n",
      "Epoch 78/100\n",
      "221/221 [==============================] - 278s 1s/step - loss: 0.2367 - accuracy: 0.9324 - val_loss: 5.4874 - val_accuracy: 0.6039\n",
      "Epoch 79/100\n",
      "221/221 [==============================] - 277s 1s/step - loss: 0.2353 - accuracy: 0.9307 - val_loss: 5.5493 - val_accuracy: 0.5940\n",
      "Epoch 80/100\n",
      "221/221 [==============================] - 276s 1s/step - loss: 0.2341 - accuracy: 0.9323 - val_loss: 5.3711 - val_accuracy: 0.5955\n",
      "Epoch 81/100\n",
      "221/221 [==============================] - 278s 1s/step - loss: 0.2243 - accuracy: 0.9365 - val_loss: 5.7480 - val_accuracy: 0.6042\n",
      "Epoch 82/100\n",
      "221/221 [==============================] - 276s 1s/step - loss: 0.2202 - accuracy: 0.9367 - val_loss: 5.4357 - val_accuracy: 0.5973\n",
      "Epoch 83/100\n",
      "221/221 [==============================] - 277s 1s/step - loss: 0.2125 - accuracy: 0.9385 - val_loss: 5.3744 - val_accuracy: 0.6030\n",
      "Epoch 84/100\n",
      "221/221 [==============================] - 277s 1s/step - loss: 0.2098 - accuracy: 0.9388 - val_loss: 5.4252 - val_accuracy: 0.5997\n",
      "Epoch 85/100\n",
      "221/221 [==============================] - 276s 1s/step - loss: 0.2071 - accuracy: 0.9389 - val_loss: 5.4019 - val_accuracy: 0.5997\n",
      "Epoch 86/100\n",
      "221/221 [==============================] - 278s 1s/step - loss: 0.2209 - accuracy: 0.9372 - val_loss: 5.6407 - val_accuracy: 0.6021\n",
      "Epoch 87/100\n",
      "221/221 [==============================] - 275s 1s/step - loss: 0.2250 - accuracy: 0.9363 - val_loss: 5.4447 - val_accuracy: 0.6066\n",
      "Epoch 88/100\n",
      "221/221 [==============================] - 280s 1s/step - loss: 0.2194 - accuracy: 0.9351 - val_loss: 5.5218 - val_accuracy: 0.6051\n",
      "Epoch 89/100\n",
      "221/221 [==============================] - 275s 1s/step - loss: 0.2163 - accuracy: 0.9385 - val_loss: 5.3880 - val_accuracy: 0.5997\n",
      "Epoch 90/100\n",
      "221/221 [==============================] - 276s 1s/step - loss: 0.2093 - accuracy: 0.9392 - val_loss: 5.5721 - val_accuracy: 0.6021\n",
      "Epoch 91/100\n",
      "221/221 [==============================] - 275s 1s/step - loss: 0.2113 - accuracy: 0.9394 - val_loss: 5.4534 - val_accuracy: 0.5985\n",
      "Epoch 92/100\n",
      "221/221 [==============================] - 276s 1s/step - loss: 0.2163 - accuracy: 0.9386 - val_loss: 5.3958 - val_accuracy: 0.5958\n",
      "Epoch 93/100\n",
      "221/221 [==============================] - 277s 1s/step - loss: 0.1894 - accuracy: 0.9460 - val_loss: 5.5262 - val_accuracy: 0.5988\n",
      "Epoch 94/100\n",
      "221/221 [==============================] - 279s 1s/step - loss: 0.1783 - accuracy: 0.9477 - val_loss: 5.6652 - val_accuracy: 0.6033\n",
      "Epoch 95/100\n",
      "221/221 [==============================] - 276s 1s/step - loss: 0.1929 - accuracy: 0.9434 - val_loss: 5.8523 - val_accuracy: 0.6048\n",
      "Epoch 96/100\n",
      "221/221 [==============================] - 277s 1s/step - loss: 0.2023 - accuracy: 0.9426 - val_loss: 5.4213 - val_accuracy: 0.6030\n",
      "Epoch 97/100\n",
      "221/221 [==============================] - 280s 1s/step - loss: 0.1819 - accuracy: 0.9471 - val_loss: 5.8913 - val_accuracy: 0.6042\n",
      "Epoch 98/100\n",
      "221/221 [==============================] - 282s 1s/step - loss: 0.1820 - accuracy: 0.9467 - val_loss: 5.5923 - val_accuracy: 0.6030\n",
      "Epoch 99/100\n",
      "221/221 [==============================] - 278s 1s/step - loss: 0.1929 - accuracy: 0.9462 - val_loss: 5.8627 - val_accuracy: 0.6081\n",
      "Epoch 100/100\n",
      "221/221 [==============================] - 277s 1s/step - loss: 0.1869 - accuracy: 0.9447 - val_loss: 5.5954 - val_accuracy: 0.6030\n"
     ]
    }
   ],
   "source": [
    "history = model.fit(training_set, \n",
    "                    epochs=100, batch_size=100, \n",
    "#                    callbacks=[checkpoint],\n",
    "                    validation_data=validation_set,\n",
    "                    verbose=1)"
   ]
  },
  {
   "cell_type": "code",
   "execution_count": 24,
   "metadata": {},
   "outputs": [],
   "source": [
    "hist_df = pd.DataFrame(history.history)\n",
    "with open('efnb0-history-epoch100-batch100-res100-adam0.001.json',mode='w') as f:\n",
    "    hist_df.to_json(f)"
   ]
  },
  {
   "cell_type": "code",
   "execution_count": 25,
   "metadata": {},
   "outputs": [],
   "source": [
    "model.save_weights('./weights/efnb0-epoch100-batch100-res100-adam0.001.h5')\n",
    "model.save('efnb0-epoch100-batch100-res100-adam0.001.h5')"
   ]
  },
  {
   "cell_type": "markdown",
   "metadata": {},
   "source": [
    "History plot"
   ]
  },
  {
   "cell_type": "code",
   "execution_count": 10,
   "metadata": {},
   "outputs": [],
   "source": [
    "my_history_efn = pd.read_json('./history/efnb0-history-epoch100-batch100-res100-adam0.001.json')"
   ]
  },
  {
   "cell_type": "code",
   "execution_count": 13,
   "metadata": {},
   "outputs": [
    {
     "data": {
      "text/plain": [
       "<matplotlib.axes._subplots.AxesSubplot at 0x7fb3d8e6f7c0>"
      ]
     },
     "execution_count": 13,
     "metadata": {},
     "output_type": "execute_result"
    },
    {
     "data": {
      "image/png": "[encoded data removed]",
      "text/plain": [
       "<Figure size 432x288 with 1 Axes>"
      ]
     },
     "metadata": {
      "needs_background": "light"
     },
     "output_type": "display_data"
    }
   ],
   "source": [
    "my_history_efn[['accuracy','val_accuracy']].plot(title=\"EfficientNet-B0 training history\")"
   ]
  },
  {
   "cell_type": "code",
   "execution_count": null,
   "metadata": {},
   "outputs": [],
   "source": []
  },
  {
   "cell_type": "code",
   "execution_count": null,
   "metadata": {},
   "outputs": [],
   "source": []
  },
  {
   "cell_type": "code",
   "execution_count": null,
   "metadata": {},
   "outputs": [],
   "source": []
  },
  {
   "cell_type": "code",
   "execution_count": null,
   "metadata": {},
   "outputs": [],
   "source": []
  }
 ],
 "metadata": {
  "kernelspec": {
   "display_name": "Python 3",
   "language": "python",
   "name": "python3"
  },
  "language_info": {
   "codemirror_mode": {
    "name": "ipython",
    "version": 3
   },
   "file_extension": ".py",
   "mimetype": "text/x-python",
   "name": "python",
   "nbconvert_exporter": "python",
   "pygments_lexer": "ipython3",
   "version": "3.8.3"
  },
  "toc": {
   "base_numbering": 1,
   "nav_menu": {},
   "number_sections": true,
   "sideBar": true,
   "skip_h1_title": false,
   "title_cell": "Table of Contents",
   "title_sidebar": "Contents",
   "toc_cell": false,
   "toc_position": {},
   "toc_section_display": true,
   "toc_window_display": false
  }
 },
 "nbformat": 4,
 "nbformat_minor": 4
}
